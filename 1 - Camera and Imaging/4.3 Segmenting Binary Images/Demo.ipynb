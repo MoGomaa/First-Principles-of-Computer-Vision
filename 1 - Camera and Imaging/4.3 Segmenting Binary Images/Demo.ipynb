{
 "cells": [
  {
   "cell_type": "code",
   "execution_count": 1,
   "metadata": {},
   "outputs": [],
   "source": [
    "import os\n",
    "import cv2\n",
    "import numpy as np\n",
    "import matplotlib.pyplot as plt"
   ]
  },
  {
   "cell_type": "code",
   "execution_count": 136,
   "metadata": {},
   "outputs": [
    {
     "data": {
      "text/plain": [
       "<matplotlib.image.AxesImage at 0x1de0412de20>"
      ]
     },
     "execution_count": 136,
     "metadata": {},
     "output_type": "execute_result"
    },
    {
     "data": {
      "image/png": "[encoded data removed]",
      "text/plain": [
       "<Figure size 640x480 with 1 Axes>"
      ]
     },
     "metadata": {},
     "output_type": "display_data"
    }
   ],
   "source": [
    "image = np.zeros((10, 10))\n",
    "image[2:6, 2:6] = 1\n",
    "image[6:8, 6:8] = 1\n",
    "image[7:9, 3:5] = 1\n",
    "plt.imshow(image)"
   ]
  },
  {
   "cell_type": "code",
   "execution_count": 137,
   "metadata": {},
   "outputs": [],
   "source": [
    "labledImage = np.zeros_like(image)\n",
    "table = {}\n",
    "for r in range(image.shape[0]):\n",
    "    for c in range(image.shape[1]):\n",
    "        if image[r][c]:\n",
    "            # U: Upper, L: Left\n",
    "            UL = labledImage[r-1][c-1] if r-1 >= 0 and c-1 >= 0 else None\n",
    "            U  = labledImage[r-1][c]   if r-1 >= 0              else None\n",
    "            L  = labledImage[r][c-1]   if c-1 >= 0              else None\n",
    "            \n",
    "            if UL:  # UL exsits and not equal 0 (Not a background)\n",
    "                labledImage[r][c] = UL\n",
    "            elif U and not L:\n",
    "                labledImage[r][c] = U\n",
    "            elif L and not U:\n",
    "                labledImage[r][c] = L\n",
    "            elif U and L:\n",
    "                labledImage[r][c] = min(U, L)\n",
    "                if U != L:\n",
    "                    table[max(U, L)].append(min(U, L))\n",
    "            else:\n",
    "                newLable = len(list(table.keys())) + 1\n",
    "                labledImage[r][c] = newLable\n",
    "                table[newLable] = []\n",
    "\n",
    "newTable = {}\n",
    "for r in range(image.shape[0]):\n",
    "    for c in range(image.shape[1]):\n",
    "        if labledImage[r][c]:\n",
    "            lable = labledImage[r][c]\n",
    "            while len(table[lable]):\n",
    "                lable = min(table[lable])\n",
    "            if lable not in newTable:\n",
    "                newTable[lable] = len(newTable.keys()) + 1\n",
    "            labledImage[r][c] = newTable[lable]"
   ]
  },
  {
   "cell_type": "code",
   "execution_count": 138,
   "metadata": {},
   "outputs": [],
   "source": [
    "newTable = {}\n",
    "for r in range(image.shape[0]):\n",
    "    for c in range(image.shape[1]):\n",
    "        if labledImage[r][c]:\n",
    "            lable = labledImage[r][c]\n",
    "            while len(table[lable]):\n",
    "                lable = min(table[lable])\n",
    "            if lable not in newTable:\n",
    "                newTable[lable] = len(newTable.keys()) + 1\n",
    "            labledImage[r][c] = newTable[lable]"
   ]
  },
  {
   "cell_type": "code",
   "execution_count": 140,
   "metadata": {},
   "outputs": [
    {
     "name": "stdout",
     "output_type": "stream",
     "text": [
      "[0. 1. 2.]\n"
     ]
    },
    {
     "data": {
      "text/plain": [
       "<matplotlib.image.AxesImage at 0x1de042bdd90>"
      ]
     },
     "execution_count": 140,
     "metadata": {},
     "output_type": "execute_result"
    },
    {
     "data": {
      "image/png": "[encoded data removed]",
      "text/plain": [
       "<Figure size 640x480 with 1 Axes>"
      ]
     },
     "metadata": {},
     "output_type": "display_data"
    }
   ],
   "source": [
    "print(np.unique(labledImage))\n",
    "plt.imshow(labledImage)"
   ]
  }
 ],
 "metadata": {
  "kernelspec": {
   "display_name": "Python 3.9.13 ('base')",
   "language": "python",
   "name": "python3"
  },
  "language_info": {
   "codemirror_mode": {
    "name": "ipython",
    "version": 3
   },
   "file_extension": ".py",
   "mimetype": "text/x-python",
   "name": "python",
   "nbconvert_exporter": "python",
   "pygments_lexer": "ipython3",
   "version": "3.9.13"
  },
  "orig_nbformat": 4,
  "vscode": {
   "interpreter": {
    "hash": "d4bfe0fc5470d0e46ac2ba88f84918467188864831b76d49cf5ae4a5adbf2ead"
   }
  }
 },
 "nbformat": 4,
 "nbformat_minor": 2
}

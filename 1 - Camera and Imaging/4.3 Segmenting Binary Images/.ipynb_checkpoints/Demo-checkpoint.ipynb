{
 "cells": [
  {
   "cell_type": "code",
   "execution_count": 1,
   "metadata": {},
   "outputs": [],
   "source": [
    "import os\n",
    "import cv2\n",
    "import numpy as np\n",
    "import matplotlib.pyplot as plt\n",
    "from math import pi, degrees, radians, sin, cos, tan, asin, acos, atan, atan2"
   ]
  },
  {
   "cell_type": "code",
   "execution_count": 2,
   "metadata": {},
   "outputs": [
    {
     "name": "stdout",
     "output_type": "stream",
     "text": [
      "..\\..\\images\\Binary\\MultipleObjects1.png \t\tImage shape: (300, 300)\n"
     ]
    },
    {
     "data": {
      "text/plain": [
       "<matplotlib.image.AxesImage at 0x1cf816307f0>"
      ]
     },
     "execution_count": 2,
     "metadata": {},
     "output_type": "execute_result"
    },
    {
     "data": {
      "image/png": "[encoded data removed]",
      "text/plain": [
       "<Figure size 432x288 with 1 Axes>"
      ]
     },
     "metadata": {
      "needs_background": "light"
     },
     "output_type": "display_data"
    }
   ],
   "source": [
    "imagesDir  = os.path.join(\"..\\\\..\\\\\", \"images\", \"Binary\")\n",
    "imagePath  = os.path.join(imagesDir, \"MultipleObjects1.png\")\n",
    "image      = cv2.imread(imagePath, cv2.IMREAD_UNCHANGED)\n",
    "rows, cols = (image.shape[0], image.shape[1])\n",
    "print(imagePath, \"\\t\\tImage shape:\", image.shape)\n",
    "plt.imshow(image, cmap=plt.cm.gray)"
   ]
  },
  {
   "cell_type": "code",
   "execution_count": 18,
   "metadata": {},
   "outputs": [
    {
     "name": "stdout",
     "output_type": "stream",
     "text": [
      "Object Area: 26157\n"
     ]
    }
   ],
   "source": [
    "table = {}\n",
    "for"
   ]
  },
  {
   "cell_type": "markdown",
   "metadata": {},
   "source": [
    "# Object Centroid\n",
    "**Continous Form:** &emsp;&emsp; $ \\bar{x}=\\frac{1}{A} \\iint_I x b(x, y) d x d y \\quad \\bar{y}=\\frac{1}{A} \\iint_I y b(x, y) d x d y $ <br/><br/>\n",
    "**Discrete Form:** &emsp;&emsp; $ \\bar{x}=\\frac{1}{A} \\sum_{i=1}^n \\sum_{j=1}^m i b_{i j} \\quad \\bar{y}=\\frac{1}{A} \\sum_{i=1}^n \\sum_{j=1}^m j b_{i j} $\n"
   ]
  },
  {
   "cell_type": "code",
   "execution_count": 19,
   "metadata": {},
   "outputs": [
    {
     "name": "stdout",
     "output_type": "stream",
     "text": [
      "x_: 144 \t y_: 160\n"
     ]
    },
    {
     "data": {
      "text/plain": [
       "<matplotlib.image.AxesImage at 0x167bdba3880>"
      ]
     },
     "execution_count": 19,
     "metadata": {},
     "output_type": "execute_result"
    },
    {
     "data": {
      "image/png": "[encoded data removed]",
      "text/plain": [
       "<Figure size 640x480 with 1 Axes>"
      ]
     },
     "metadata": {},
     "output_type": "display_data"
    }
   ],
   "source": [
    "x_ = y_ = 0\n",
    "for y in range(rows):\n",
    "    for x in range(cols):\n",
    "        if image[y][x]:\n",
    "            x_   += x\n",
    "            y_   += y\n",
    "x_ //= Area\n",
    "y_ //= Area \n",
    "print(\"x_:\", x_, \"\\t y_:\", y_)\n",
    "\n",
    "# For sake of visualization converting image to 3D channel to see colors of points and lines\n",
    "newImage = cv2.cvtColor(image, cv2.COLOR_GRAY2RGB) \n",
    "newImage = cv2.circle(newImage, (x_, y_), radius=0, color=(255, 0, 0), thickness=5)\n",
    "plt.imshow(newImage, cmap=plt.cm.gray)"
   ]
  },
  {
   "cell_type": "markdown",
   "metadata": {},
   "source": [
    "# Object Orientation\n",
    "\n",
    "We wanth to find the axis of orientation i.e. The axis which we need least effort to rotate the object around it. <br/><br/>\n",
    "The Axis line equation should be: &emsp; $ y=m x+b  \\quad\\quad\\quad\\quad\\quad\\quad\\quad \\text { Where }-\\infty \\leq m \\leq \\infty $<br/>\n",
    "Instead we will use: &emsp;&emsp;&emsp;&emsp;&emsp;&emsp;&emsp; $ x \\sin \\theta-y \\cos \\theta+\\rho=0 \\quad\\quad \\text { Where } \\rho, \\ \\theta \\ are finite $\n",
    "\n",
    "So we want to minimize the energy &emsp;&emsp; $ E = \\iint_I r^2 b(x, y) d x d y $ &emsp;&emsp; Where r is the perpendicular distance of a point on the object to the axis is given by:\n",
    "$$ r=\\left|\\frac{a x+b y+c}{\\sqrt{a^2+b^2}}\\right| \\quad\\quad \\text { Or } \\quad\\quad\\quad\\quad \n",
    "r=\\left|\\frac{x \\sin \\theta-y \\cos \\theta+\\rho}{\\sqrt{\\sin ^2 \\theta+\\cos ^2 \\theta}}\\right|  \\quad\\quad r=|x \\sin \\theta-y \\cos \\theta+\\rho| $$\n",
    "\n",
    "By substituting in $E$ we get: &emsp;&emsp; $E=\\iint_I(x \\sin \\theta-y \\cos \\theta+\\rho)^2 b(x, y) d x d y$<br/><br/>\n",
    "So we want to find $\\rho$, $\\theta$ that minimize $E$ for a given $b(x, y)$ By using $ \\frac{\\partial E}{\\partial \\rho}=0 \\quad $ we get: &emsp;&emsp; $ A(\\bar{x} \\sin \\theta-\\bar{y} \\cos \\theta+\\rho)=0 $\n",
    "\n",
    "To simplify $E$ we move the coordinates to the Centroid: &emsp; $ x^{\\prime}=x-\\bar{x}, \\quad y^{\\prime}=y-\\bar{y} $ &emsp;&emsp; and we can rewrite $E$ as: &emsp; $ E=a \\sin ^2 \\theta-b \\sin \\theta \\cos \\theta+c \\cos ^2 \\theta  $\n",
    "<br/><br/>Where &emsp;&emsp; $ a = \\iint_{I^{\\prime}}\\left(x^{\\prime}\\right)^2 b(x, y) d x^{\\prime} d y^{\\prime} \\quad\\quad\\quad\n",
    "                     b = 2 \\iint_{I^{\\prime}}\\left(x^{\\prime} y^{\\prime}\\right) b(x, y) d x^{\\prime} d y^{\\prime} \\quad\\quad\\quad\n",
    "                    c = \\iint_{I^{\\prime}}\\left(y^{\\prime}\\right)^2 b(x, y) d x^{\\prime} d y^{\\prime}$\n",
    "\n",
    "**Discrete Form:** &emsp;&emsp; $ a = \\sum_{i=1}^n \\sum_{j=1}^m (i-\\bar{x})^2 b_{i j} \\quad \n",
    "                                  b = 2 \\sum_{i=1}^n \\sum_{j=1}^m (i-\\bar{x}) (j-\\bar{y}) b_{i j} \\quad \n",
    "                                  c = \\sum_{i=1}^n \\sum_{j=1}^m (j-\\bar{y})^2 b_{i j} $"
   ]
  },
  {
   "cell_type": "code",
   "execution_count": 20,
   "metadata": {},
   "outputs": [],
   "source": [
    "a_ = b_ = c_ = 0\n",
    "for y in range(rows):\n",
    "    for x in range(cols):\n",
    "        if image[y][x]:\n",
    "            a_ += (x - x_) ** 2\n",
    "            b_ += 2 * (x - x_) * (y - y_) \n",
    "            c_ += (y - y_) ** 2"
   ]
  },
  {
   "cell_type": "markdown",
   "metadata": {},
   "source": [
    "By using $ \\frac{d E}{d \\theta}=0 \\quad $ we get: &emsp;&emsp; $ \\tan 2 \\theta=\\frac{b}{a-c} = \\tan (2 \\theta+\\pi)=\\frac{-b}{c-a} \\quad\\quad $ Where $\\theta$ have 2 values for both $E_\\text{min} \\ \\& \\ E_\\text{max}$\n",
    "\n",
    "Using second derivative test:\n",
    "<br/>If $\\frac{d^2 E}{d \\theta^2}=(a-c) \\cos 2 \\theta+b \\sin 2 \\theta\\left\\{\\begin{array}{l}>0 \\text { then Minimum } \\\\ <0 \\text { then Maximum }\\end{array}\\right.$\n"
   ]
  },
  {
   "cell_type": "code",
   "execution_count": 21,
   "metadata": {},
   "outputs": [
    {
     "name": "stdout",
     "output_type": "stream",
     "text": [
      "theta_Emin: -36.41698564398046 \t Emin: -55536282.80951053\n",
      "theta_Emax: 53.58301435601954 \t Emax: 86536013.80951051\n"
     ]
    }
   ],
   "source": [
    "theta1 = atan2( b_, a_-c_) / 2     # Note: Radian angle\n",
    "theta2 = atan2(-b_, c_-a_) / 2\n",
    "check1 = (a_ - c_) * cos(2*theta1) + b_ * sin(2*theta1)\n",
    "check2 = (a_ - c_) * cos(2*theta2) + b_ * sin(2*theta2)\n",
    "if check1 > 0:\n",
    "    theta_Emin = theta1\n",
    "    theta_Emax = theta2\n",
    "else:\n",
    "    theta_Emin = theta2\n",
    "    theta_Emax = theta1\n",
    "Emin = a_ * sin(theta_Emin)**2 - b_ * sin(theta_Emin) * cos(theta_Emin) - c_ * cos(theta_Emin)**2\n",
    "Emax = a_ * sin(theta_Emax)**2 - b_ * sin(theta_Emax) * cos(theta_Emax) - c_ * cos(theta_Emax)**2\n",
    "print(\"theta_Emin:\", degrees(theta_Emin), \"\\t\", \"Emin:\", Emin)\n",
    "print(\"theta_Emax:\", degrees(theta_Emax), \"\\t\", \"Emax:\", Emax)"
   ]
  },
  {
   "cell_type": "markdown",
   "metadata": {},
   "source": [
    "### Axis line equation"
   ]
  },
  {
   "cell_type": "code",
   "execution_count": 22,
   "metadata": {},
   "outputs": [
    {
     "name": "stdout",
     "output_type": "stream",
     "text": [
      "Axis line equation: y = -0.7377212810799743 x + 266.2318644755163\n"
     ]
    }
   ],
   "source": [
    "rho = y_ * cos(theta_Emin) - x_ * sin(theta_Emin)\n",
    "m   = tan(theta_Emin)\n",
    "b   = rho / cos(theta_Emin)\n",
    "if degrees(theta_Emin) == 0.0:\n",
    "    print(\"Axis line equation: y =\", b)\n",
    "elif degrees(theta_Emin) == 90.0:\n",
    "    print(\"Axis line equation: x =\", -b / m)\n",
    "else:\n",
    "    print(\"Axis line equation: y =\", m, \"x +\", b)"
   ]
  },
  {
   "cell_type": "markdown",
   "metadata": {},
   "source": [
    "### Draw Full line"
   ]
  },
  {
   "cell_type": "code",
   "execution_count": 23,
   "metadata": {},
   "outputs": [
    {
     "name": "stdout",
     "output_type": "stream",
     "text": [
      "(0, 266) (300, 44)\n"
     ]
    },
    {
     "data": {
      "text/plain": [
       "<matplotlib.image.AxesImage at 0x167bdc201c0>"
      ]
     },
     "execution_count": 23,
     "metadata": {},
     "output_type": "execute_result"
    },
    {
     "data": {
      "image/png": "[encoded data removed]",
      "text/plain": [
       "<Figure size 640x480 with 1 Axes>"
      ]
     },
     "metadata": {},
     "output_type": "display_data"
    }
   ],
   "source": [
    "p1 = None\n",
    "p2 = None\n",
    "if degrees(theta_Emin) == 0.0:\n",
    "    p1 = (0   , y_)\n",
    "    p2 = (cols, y_)\n",
    "elif degrees(theta_Emin) == 90.0:\n",
    "    p1 = (x_, 0)\n",
    "    p2 = (x_, rows)\n",
    "else:\n",
    "    y = b\n",
    "    x = -b / m\n",
    "    if y >= 0  and  y < rows:\n",
    "        p1 = (0, int(y))\n",
    "    else:\n",
    "        p1 = (int(x), 0)\n",
    "\n",
    "    y = m * cols + b\n",
    "    x = (rows - b) / m\n",
    "    if y >= 0  and  y < rows:\n",
    "        p2 = (cols, int(y))\n",
    "    else:\n",
    "        p2 = (int(x), rows)\n",
    "print(p1, p2)\n",
    "\n",
    "newImage = cv2.line(newImage, p1, p2, color=(0, 0, 255), thickness=1)\n",
    "plt.imshow(newImage, cmap=plt.cm.gray)"
   ]
  }
 ],
 "metadata": {
  "kernelspec": {
   "display_name": "Python 3 (ipykernel)",
   "language": "python",
   "name": "python3"
  },
  "language_info": {
   "codemirror_mode": {
    "name": "ipython",
    "version": 3
   },
   "file_extension": ".py",
   "mimetype": "text/x-python",
   "name": "python",
   "nbconvert_exporter": "python",
   "pygments_lexer": "ipython3",
   "version": "3.9.12"
  },
  "vscode": {
   "interpreter": {
    "hash": "d4bfe0fc5470d0e46ac2ba88f84918467188864831b76d49cf5ae4a5adbf2ead"
   }
  }
 },
 "nbformat": 4,
 "nbformat_minor": 2
}

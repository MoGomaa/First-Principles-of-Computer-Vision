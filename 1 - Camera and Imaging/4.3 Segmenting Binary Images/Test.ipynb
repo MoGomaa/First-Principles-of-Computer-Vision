{
 "cells": [
  {
   "cell_type": "code",
   "execution_count": 11,
   "metadata": {},
   "outputs": [
    {
     "ename": "ImportError",
     "evalue": "cannot import name 'getConnectedComponent' from 'Implementation' (d:\\Work\\Personal\\First-Principles-of-Computer-Vision\\1 - Camera and Imaging\\4.3 Segmenting Binary Images\\Implementation.py)",
     "output_type": "error",
     "traceback": [
      "\u001b[1;31m---------------------------------------------------------------------------\u001b[0m",
      "\u001b[1;31mImportError\u001b[0m                               Traceback (most recent call last)",
      "\u001b[1;32m~\\AppData\\Local\\Temp\\ipykernel_21500\\3978935349.py\u001b[0m in \u001b[0;36m<module>\u001b[1;34m\u001b[0m\n\u001b[0;32m      4\u001b[0m \u001b[1;32mimport\u001b[0m \u001b[0mmatplotlib\u001b[0m\u001b[1;33m.\u001b[0m\u001b[0mpyplot\u001b[0m \u001b[1;32mas\u001b[0m \u001b[0mplt\u001b[0m\u001b[1;33m\u001b[0m\u001b[1;33m\u001b[0m\u001b[0m\n\u001b[0;32m      5\u001b[0m \u001b[1;33m\u001b[0m\u001b[0m\n\u001b[1;32m----> 6\u001b[1;33m \u001b[1;32mfrom\u001b[0m \u001b[0mImplementation\u001b[0m \u001b[1;32mimport\u001b[0m \u001b[0mgetConnectedComponent\u001b[0m\u001b[1;33m\u001b[0m\u001b[1;33m\u001b[0m\u001b[0m\n\u001b[0m",
      "\u001b[1;31mImportError\u001b[0m: cannot import name 'getConnectedComponent' from 'Implementation' (d:\\Work\\Personal\\First-Principles-of-Computer-Vision\\1 - Camera and Imaging\\4.3 Segmenting Binary Images\\Implementation.py)"
     ]
    }
   ],
   "source": [
    "import os\n",
    "import cv2\n",
    "import numpy as np\n",
    "import matplotlib.pyplot as plt\n",
    "\n",
    "from Implementation import *"
   ]
  },
  {
   "cell_type": "code",
   "execution_count": 8,
   "metadata": {},
   "outputs": [
    {
     "data": {
      "text/plain": [
       "['MultipleObjects1.png',\n",
       " 'MultipleObjects2.png',\n",
       " 'MultipleObjects3.png',\n",
       " 'MultipleObjects4.png',\n",
       " 'MultipleObjects5.png']"
      ]
     },
     "execution_count": 8,
     "metadata": {},
     "output_type": "execute_result"
    }
   ],
   "source": [
    "imagesDir = os.path.join(\"..\\\\..\\\\\", \"images\", \"Binary\")\n",
    "walk      = list(os.walk(imagesDir))\n",
    "filenames = walk[0][2]\n",
    "images = [file for file in filenames if \".png\" in file]\n",
    "multipleObjectImages = [filename for filename in images if \"Multiple\"   in filename]\n",
    "multipleObjectImages"
   ]
  },
  {
   "cell_type": "code",
   "execution_count": 9,
   "metadata": {},
   "outputs": [
    {
     "ename": "NameError",
     "evalue": "name 'getConnectedComponent' is not defined",
     "output_type": "error",
     "traceback": [
      "\u001b[1;31m---------------------------------------------------------------------------\u001b[0m",
      "\u001b[1;31mNameError\u001b[0m                                 Traceback (most recent call last)",
      "\u001b[1;32m~\\AppData\\Local\\Temp\\ipykernel_21500\\400909695.py\u001b[0m in \u001b[0;36m<module>\u001b[1;34m\u001b[0m\n\u001b[0;32m      3\u001b[0m     \u001b[0mimage\u001b[0m      \u001b[1;33m=\u001b[0m \u001b[0mcv2\u001b[0m\u001b[1;33m.\u001b[0m\u001b[0mimread\u001b[0m\u001b[1;33m(\u001b[0m\u001b[0mimagePath\u001b[0m\u001b[1;33m,\u001b[0m \u001b[0mcv2\u001b[0m\u001b[1;33m.\u001b[0m\u001b[0mIMREAD_UNCHANGED\u001b[0m\u001b[1;33m)\u001b[0m\u001b[1;33m\u001b[0m\u001b[1;33m\u001b[0m\u001b[0m\n\u001b[0;32m      4\u001b[0m \u001b[1;33m\u001b[0m\u001b[0m\n\u001b[1;32m----> 5\u001b[1;33m     \u001b[0mlabledImage\u001b[0m \u001b[1;33m=\u001b[0m \u001b[0mgetConnectedComponent\u001b[0m\u001b[1;33m(\u001b[0m\u001b[0mimage\u001b[0m\u001b[1;33m)\u001b[0m\u001b[1;33m\u001b[0m\u001b[1;33m\u001b[0m\u001b[0m\n\u001b[0m\u001b[0;32m      6\u001b[0m     \u001b[0mprint\u001b[0m\u001b[1;33m(\u001b[0m\u001b[0mnp\u001b[0m\u001b[1;33m.\u001b[0m\u001b[0munique\u001b[0m\u001b[1;33m)\u001b[0m\u001b[1;33m\u001b[0m\u001b[1;33m\u001b[0m\u001b[0m\n\u001b[0;32m      7\u001b[0m \u001b[1;33m\u001b[0m\u001b[0m\n",
      "\u001b[1;31mNameError\u001b[0m: name 'getConnectedComponent' is not defined"
     ]
    }
   ],
   "source": [
    "for imageName in multipleObjectImages:\n",
    "    imagePath  = os.path.join(imagesDir, imageName)\n",
    "    image      = cv2.imread(imagePath, cv2.IMREAD_UNCHANGED)\n",
    "    print(imageName)\n",
    "    labledImage = getConnectedComponent(image)\n",
    "    print(np.unique)\n",
    "\n",
    "    plt.figure()\n",
    "    title = imageName + \", # Objects: \" + str(len(np.unique(labledImage))-1)\n",
    "    plt.title(title)\n",
    "    plt.imshow(image, cmap=plt.cm.gray)"
   ]
  },
  {
   "cell_type": "code",
   "execution_count": null,
   "metadata": {},
   "outputs": [],
   "source": []
  }
 ],
 "metadata": {
  "kernelspec": {
   "display_name": "Python 3.9.13 ('base')",
   "language": "python",
   "name": "python3"
  },
  "language_info": {
   "codemirror_mode": {
    "name": "ipython",
    "version": 3
   },
   "file_extension": ".py",
   "mimetype": "text/x-python",
   "name": "python",
   "nbconvert_exporter": "python",
   "pygments_lexer": "ipython3",
   "version": "3.9.13"
  },
  "orig_nbformat": 4,
  "vscode": {
   "interpreter": {
    "hash": "d4bfe0fc5470d0e46ac2ba88f84918467188864831b76d49cf5ae4a5adbf2ead"
   }
  }
 },
 "nbformat": 4,
 "nbformat_minor": 2
}
